{
 "cells": [
  {
   "cell_type": "code",
   "execution_count": 1,
   "metadata": {},
   "outputs": [],
   "source": [
    "from common import fetch_data, fetch_24h_vol, save_cache_data"
   ]
  },
  {
   "cell_type": "code",
   "execution_count": 2,
   "metadata": {},
   "outputs": [],
   "source": [
    "# Fetch and save funding rate and price history\n",
    "\n",
    "# Input\n",
    "exchanges_markets = [\n",
    "    {\n",
    "        \"binance\": \"BTCUSDT\",\n",
    "        \"bitmex\": \"XBTUSDT\",\n",
    "        \"apollox\": \"BTCUSDT\",\n",
    "        \"drift\": \"BTC-PERP\"\n",
    "    },\n",
    "    {\n",
    "        \"binance\": \"ETHUSDT\",\n",
    "        \"bitmex\": \"ETHUSDT\",\n",
    "        \"apollox\": \"ETHUSDT\",\n",
    "        \"drift\": \"ETH-PERP\"\n",
    "    },\n",
    "    {\n",
    "        \"binance\": \"SOLUSDT\",\n",
    "        \"bitmex\": \"SOLUSDT\",\n",
    "        \"apollox\": \"SOLUSDT\",\n",
    "        \"drift\": \"SOL-PERP\"\n",
    "    },\n",
    "    {\n",
    "        \"binance\": \"XRPUSDT\",\n",
    "        \"bitmex\": \"XRPUSDT\",\n",
    "        \"apollox\": \"XRPUSDT\",\n",
    "        \"drift\": \"XRP-PERP\"\n",
    "    },\n",
    "    {\n",
    "        \"binance\": \"BNBUSDT\",\n",
    "        \"bitmex\": \"BNBUSDT\",\n",
    "        \"apollox\": \"BNBUSDT\",\n",
    "        \"drift\": \"BNB-PERP\"\n",
    "    },\n",
    "]\n",
    "\n",
    "accepted_exchanges = [\n",
    "    # 'binance', \n",
    "    'bitmex', \n",
    "    # 'apollox',\n",
    "    # 'drift'\n",
    "    ]\n",
    "exchanges_markets = [{key: market[key] for key in market if key in accepted_exchanges } for market in exchanges_markets]"
   ]
  },
  {
   "cell_type": "code",
   "execution_count": 3,
   "metadata": {},
   "outputs": [
    {
     "name": "stdout",
     "output_type": "stream",
     "text": [
      "Bitmex XBTUSDT Error: 429\n",
      "Bitmex XBTUSDT Error: 429\n",
      "Bitmex XBTUSDT Error: 429\n",
      "Bitmex XBTUSDT Error: 429\n",
      "Bitmex XBTUSDT Error: 429\n",
      "Bitmex XBTUSDT Error: 429\n",
      "Bitmex XBTUSDT Error: 429\n",
      "Bitmex XBTUSDT Error: 429\n",
      "Bitmex XBTUSDT Error: 429\n",
      "Bitmex XBTUSDT Error: 429\n",
      "Bitmex XBTUSDT Error: 429\n",
      "Bitmex XBTUSDT Error: 429\n",
      "Bitmex XBTUSDT Error: 429\n",
      "Bitmex XBTUSDT Error: 429\n",
      "Bitmex XBTUSDT Error: 429\n",
      "Bitmex XBTUSDT Error: 429\n",
      "Bitmex XBTUSDT Error: 429\n",
      "Bitmex XBTUSDT Error: 429\n",
      "Bitmex XBTUSDT Error: 429\n",
      "Bitmex XBTUSDT Error: 429\n",
      "Bitmex XBTUSDT Error: 429\n",
      "Bitmex XBTUSDT Error: 429\n",
      "Bitmex XBTUSDT Error: 429\n",
      "Bitmex XBTUSDT Error: 429\n",
      "Bitmex XBTUSDT Error: 429\n",
      "Bitmex XBTUSDT Error: 429\n",
      "Bitmex XBTUSDT Error: 429\n",
      "Bitmex XBTUSDT Error: 429\n",
      "Bitmex XBTUSDT Error: 429\n",
      "Bitmex XBTUSDT Error: 429\n",
      "Bitmex XBTUSDT Error: 429\n",
      "Bitmex XBTUSDT Error: 429\n",
      "Bitmex XBTUSDT Error: 429\n",
      "Bitmex XBTUSDT Error: 429\n",
      "Bitmex XBTUSDT Error: 429\n",
      "Bitmex XBTUSDT Error: 429\n",
      "Bitmex ETHUSDT Error: 429\n"
     ]
    },
    {
     "ename": "TypeError",
     "evalue": "'NaTType' object cannot be interpreted as an integer",
     "output_type": "error",
     "traceback": [
      "\u001b[0;31m---------------------------------------------------------------------------\u001b[0m",
      "\u001b[0;31mTypeError\u001b[0m                                 Traceback (most recent call last)",
      "Cell \u001b[0;32mIn[3], line 4\u001b[0m\n\u001b[1;32m      2\u001b[0m \u001b[38;5;28;01mfor\u001b[39;00m exchanges_market \u001b[38;5;129;01min\u001b[39;00m exchanges_markets:\n\u001b[1;32m      3\u001b[0m     \u001b[38;5;28;01mfor\u001b[39;00m exchange, market \u001b[38;5;129;01min\u001b[39;00m exchanges_market\u001b[38;5;241m.\u001b[39mitems():\n\u001b[0;32m----> 4\u001b[0m          data \u001b[38;5;241m=\u001b[39m \u001b[43mfetch_data\u001b[49m\u001b[43m(\u001b[49m\u001b[43mexchange\u001b[49m\u001b[43m,\u001b[49m\u001b[43m \u001b[49m\u001b[43mmarket\u001b[49m\u001b[43m)\u001b[49m\n\u001b[1;32m      5\u001b[0m          save_cache_data(exchange, market, data)\n",
      "File \u001b[0;32m~/Documents/projects/funding/funding-arb-analysis/common.py:13\u001b[0m, in \u001b[0;36mfetch_data\u001b[0;34m(exchange, market)\u001b[0m\n\u001b[1;32m     10\u001b[0m start_funding_time \u001b[38;5;241m=\u001b[39m funding_df[\u001b[38;5;124m'\u001b[39m\u001b[38;5;124mtimestamp\u001b[39m\u001b[38;5;124m'\u001b[39m]\u001b[38;5;241m.\u001b[39mmin()\n\u001b[1;32m     11\u001b[0m end_funding_time \u001b[38;5;241m=\u001b[39m funding_df[\u001b[38;5;124m'\u001b[39m\u001b[38;5;124mtimestamp\u001b[39m\u001b[38;5;124m'\u001b[39m]\u001b[38;5;241m.\u001b[39mmax()\n\u001b[0;32m---> 13\u001b[0m price_df \u001b[38;5;241m=\u001b[39m \u001b[43mfetcher\u001b[49m\u001b[38;5;241;43m.\u001b[39;49m\u001b[43mfetch_ohlc\u001b[49m\u001b[43m(\u001b[49m\u001b[43mexchange\u001b[49m\u001b[43m,\u001b[49m\u001b[43m \u001b[49m\u001b[43mmarket\u001b[49m\u001b[43m,\u001b[49m\u001b[43m \u001b[49m\u001b[43mstart_funding_time\u001b[49m\u001b[43m,\u001b[49m\u001b[43m \u001b[49m\u001b[43mend_funding_time\u001b[49m\u001b[43m)\u001b[49m\n\u001b[1;32m     14\u001b[0m price_df[\u001b[38;5;124m'\u001b[39m\u001b[38;5;124mdatetime\u001b[39m\u001b[38;5;124m'\u001b[39m] \u001b[38;5;241m=\u001b[39m price_df[\u001b[38;5;124m'\u001b[39m\u001b[38;5;124mdatetime\u001b[39m\u001b[38;5;124m'\u001b[39m]\u001b[38;5;241m.\u001b[39mdt\u001b[38;5;241m.\u001b[39mtz_localize(\u001b[38;5;28;01mNone\u001b[39;00m)\n\u001b[1;32m     16\u001b[0m start_price_time \u001b[38;5;241m=\u001b[39m price_df[\u001b[38;5;124m'\u001b[39m\u001b[38;5;124mtimestamp\u001b[39m\u001b[38;5;124m'\u001b[39m]\u001b[38;5;241m.\u001b[39mmin()\n",
      "File \u001b[0;32m~/Documents/projects/funding/funding-arb-analysis/modules/fetcher.py:46\u001b[0m, in \u001b[0;36mFetcher.fetch_ohlc\u001b[0;34m(self, exchange, market, start_time, end_time)\u001b[0m\n\u001b[1;32m     45\u001b[0m \u001b[38;5;28;01mdef\u001b[39;00m \u001b[38;5;21mfetch_ohlc\u001b[39m(\u001b[38;5;28mself\u001b[39m, exchange, market, start_time, end_time):\n\u001b[0;32m---> 46\u001b[0m     \u001b[38;5;28;01mreturn\u001b[39;00m \u001b[38;5;28;43mself\u001b[39;49m\u001b[38;5;241;43m.\u001b[39;49m\u001b[43mexchanges\u001b[49m\u001b[43m[\u001b[49m\u001b[43mexchange\u001b[49m\u001b[43m]\u001b[49m\u001b[38;5;241;43m.\u001b[39;49m\u001b[43mfetch_hourly_ohlc\u001b[49m\u001b[43m(\u001b[49m\u001b[43mmarket\u001b[49m\u001b[43m,\u001b[49m\u001b[43m \u001b[49m\u001b[43mstart_time\u001b[49m\u001b[43m,\u001b[49m\u001b[43m \u001b[49m\u001b[43mend_time\u001b[49m\u001b[43m)\u001b[49m\n",
      "File \u001b[0;32m~/Documents/projects/funding/funding-arb-analysis/modules/exchanges/bitmex.py:77\u001b[0m, in \u001b[0;36mBitmexFetcher.fetch_hourly_ohlc\u001b[0;34m(self, symbol, start_time, end_time)\u001b[0m\n\u001b[1;32m     75\u001b[0m \u001b[38;5;28;01mdef\u001b[39;00m \u001b[38;5;21mfetch_hourly_ohlc\u001b[39m(\u001b[38;5;28mself\u001b[39m, symbol, start_time, end_time):\n\u001b[1;32m     76\u001b[0m     result \u001b[38;5;241m=\u001b[39m []\n\u001b[0;32m---> 77\u001b[0m     cur \u001b[38;5;241m=\u001b[39m \u001b[43mdatetime\u001b[49m\u001b[38;5;241;43m.\u001b[39;49m\u001b[43mfromtimestamp\u001b[49m\u001b[43m(\u001b[49m\u001b[43mend_time\u001b[49m\u001b[43m)\u001b[49m\n\u001b[1;32m     78\u001b[0m     \u001b[38;5;28;01mwhile\u001b[39;00m \u001b[38;5;28;01mTrue\u001b[39;00m:\n\u001b[1;32m     79\u001b[0m         data \u001b[38;5;241m=\u001b[39m \u001b[38;5;28mself\u001b[39m\u001b[38;5;241m.\u001b[39m_fetch_hourly_ohlc_by_month(symbol, cur\u001b[38;5;241m.\u001b[39myear, cur\u001b[38;5;241m.\u001b[39mmonth)\n",
      "\u001b[0;31mTypeError\u001b[0m: 'NaTType' object cannot be interpreted as an integer"
     ]
    }
   ],
   "source": [
    "# Download funding rate and price\n",
    "for exchanges_market in exchanges_markets:\n",
    "    for exchange, market in exchanges_market.items():\n",
    "         data = fetch_data(exchange, market)\n",
    "         save_cache_data(exchange, market, data)"
   ]
  }
 ],
 "metadata": {
  "kernelspec": {
   "display_name": ".venv",
   "language": "python",
   "name": "python3"
  },
  "language_info": {
   "codemirror_mode": {
    "name": "ipython",
    "version": 3
   },
   "file_extension": ".py",
   "mimetype": "text/x-python",
   "name": "python",
   "nbconvert_exporter": "python",
   "pygments_lexer": "ipython3",
   "version": "3.12.0"
  }
 },
 "nbformat": 4,
 "nbformat_minor": 2
}
