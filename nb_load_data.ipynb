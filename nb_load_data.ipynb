{
 "cells": [
  {
   "cell_type": "code",
   "execution_count": 1,
   "metadata": {},
   "outputs": [],
   "source": [
    "from common import fetch_data, save_cache_data"
   ]
  },
  {
   "cell_type": "code",
   "execution_count": 2,
   "metadata": {},
   "outputs": [
    {
     "name": "stdout",
     "output_type": "stream",
     "text": [
      "Drift BTC-PERP Error: 403\n",
      "BTC-PERP 60 2024 1\n",
      "Drift BTC-PERP Error: 403\n",
      "BTC-PERP 60 2023 11\n",
      "Drift BTC-PERP Error: 403\n",
      "Drift ETH-PERP Error: 403\n",
      "ETH-PERP 60 2024 1\n",
      "Drift ETH-PERP Error: 403\n",
      "Drift SOL-PERP Error: 403\n",
      "SOL-PERP 60 2024 1\n",
      "Drift SOL-PERP Error: 403\n",
      "Drift XRP-PERP Error: 403\n",
      "XRP-PERP 60 2024 1\n",
      "Drift XRP-PERP Error: 403\n",
      "XRP-PERP 60 2023 6\n",
      "Drift XRP-PERP Error: 403\n",
      "Drift BNB-PERP Error: 403\n",
      "BNB-PERP 60 2024 1\n",
      "Drift BNB-PERP Error: 403\n"
     ]
    }
   ],
   "source": [
    "# Fetch and save funding rate and price history\n",
    "\n",
    "# Input\n",
    "exchanges_markets = [\n",
    "    {\n",
    "        \"binance\": \"BTCUSDT\",\n",
    "        \"bitmex\": \"XBTUSD\",\n",
    "        \"apollox\": \"BTCUSDT\",\n",
    "        \"drift\": \"BTC-PERP\"\n",
    "    },\n",
    "    {\n",
    "        \"binance\": \"ETHUSDT\",\n",
    "        \"bitmex\": \"ETHUSD\",\n",
    "        \"apollox\": \"ETHUSDT\",\n",
    "        \"drift\": \"ETH-PERP\"\n",
    "    },\n",
    "    {\n",
    "        \"binance\": \"SOLUSDT\",\n",
    "        \"bitmex\": \"SOLUSD\",\n",
    "        \"apollox\": \"SOLUSDT\",\n",
    "        \"drift\": \"SOL-PERP\"\n",
    "    },\n",
    "    {\n",
    "        \"binance\": \"XRPUSDT\",\n",
    "        \"bitmex\": \"XRPUSD\",\n",
    "        \"apollox\": \"XRPUSDT\",\n",
    "        \"drift\": \"XRP-PERP\"\n",
    "    },\n",
    "    {\n",
    "        \"binance\": \"BNBUSDT\",\n",
    "        \"bitmex\": \"BNBUSD\",\n",
    "        \"apollox\": \"BNBUSDT\",\n",
    "        \"drift\": \"BNB-PERP\"\n",
    "    },\n",
    "]\n",
    "\n",
    "accepted_exchanges = [\n",
    "    'binance', \n",
    "    'bitmex', \n",
    "    'apollox', \n",
    "    'drift'\n",
    "    ]\n",
    "exchanges_markets = [{key: market[key] for key in market if key in accepted_exchanges } for market in exchanges_markets]\n",
    "\n",
    "for exchanges_market in exchanges_markets:\n",
    "    for exchange, market in exchanges_market.items():\n",
    "         data = fetch_data(exchange, market)\n",
    "         save_cache_data(exchange, market, data)"
   ]
  }
 ],
 "metadata": {
  "kernelspec": {
   "display_name": ".venv",
   "language": "python",
   "name": "python3"
  },
  "language_info": {
   "codemirror_mode": {
    "name": "ipython",
    "version": 3
   },
   "file_extension": ".py",
   "mimetype": "text/x-python",
   "name": "python",
   "nbconvert_exporter": "python",
   "pygments_lexer": "ipython3",
   "version": "3.12.0"
  }
 },
 "nbformat": 4,
 "nbformat_minor": 2
}
