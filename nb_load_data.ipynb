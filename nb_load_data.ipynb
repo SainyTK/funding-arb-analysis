{
 "cells": [
  {
   "cell_type": "code",
   "execution_count": null,
   "metadata": {},
   "outputs": [],
   "source": [
    "from common import fetch_data, save_cache_data"
   ]
  },
  {
   "cell_type": "code",
   "execution_count": null,
   "metadata": {},
   "outputs": [],
   "source": [
    "# Fetch and save funding rate and price history\n",
    "\n",
    "# Input\n",
    "exchanges_markets = [\n",
    "    {\n",
    "        \"binance\": \"BTCUSDT\",\n",
    "        \"bitmex\": \"XBTUSD\",\n",
    "        \"apollox\": \"BTCUSDT\",\n",
    "        \"drift\": \"BTC-PERP\"\n",
    "    },\n",
    "    {\n",
    "        \"binance\": \"ETHUSDT\",\n",
    "        \"bitmex\": \"ETHUSD\",\n",
    "        \"apollox\": \"ETHUSDT\",\n",
    "        \"drift\": \"ETH-PERP\"\n",
    "    },\n",
    "    {\n",
    "        \"binance\": \"SOLUSDT\",\n",
    "        \"bitmex\": \"SOLUSD\",\n",
    "        \"apollox\": \"SOLUSDT\",\n",
    "        \"drift\": \"SOL-PERP\"\n",
    "    },\n",
    "    {\n",
    "        \"binance\": \"XRPUSDT\",\n",
    "        \"bitmex\": \"XRPUSD\",\n",
    "        \"apollox\": \"XRPUSDT\",\n",
    "        \"drift\": \"XRP-PERP\"\n",
    "    },\n",
    "    {\n",
    "        \"binance\": \"BNBUSDT\",\n",
    "        \"bitmex\": \"BNBUSD\",\n",
    "        \"apollox\": \"BNBUSDT\",\n",
    "        \"drift\": \"BNB-PERP\"\n",
    "    },\n",
    "]\n",
    "\n",
    "accepted_exchanges = ['binance', 'apollox', 'drift']\n",
    "exchanges_markets = [{key: market[key] for key in market if key in accepted_exchanges } for market in exchanges_markets]\n",
    "\n",
    "for exchanges_market in exchanges_markets:\n",
    "    for exchange, market in exchanges_market.items():\n",
    "         data = fetch_data(exchange, market)\n",
    "         save_cache_data(exchange, market, data)"
   ]
  }
 ],
 "metadata": {
  "language_info": {
   "name": "python"
  }
 },
 "nbformat": 4,
 "nbformat_minor": 2
}
