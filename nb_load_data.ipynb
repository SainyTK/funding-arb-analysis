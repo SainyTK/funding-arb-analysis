{
 "cells": [
  {
   "cell_type": "code",
   "execution_count": 1,
   "metadata": {},
   "outputs": [
    {
     "name": "stderr",
     "output_type": "stream",
     "text": [
      "/Users/sainy/Documents/projects/personal/funding-arb-analysis/.venv/lib/python3.12/site-packages/eth_utils/network.py:61: UserWarning: Network 345 with name 'Yooldo Verse Mainnet' does not have a valid ChainId. eth-typing should be updated with the latest networks.\n",
      "  networks = initialize_network_objects()\n",
      "/Users/sainy/Documents/projects/personal/funding-arb-analysis/.venv/lib/python3.12/site-packages/eth_utils/network.py:61: UserWarning: Network 12611 with name 'Astar zkEVM' does not have a valid ChainId. eth-typing should be updated with the latest networks.\n",
      "  networks = initialize_network_objects()\n"
     ]
    }
   ],
   "source": [
    "from common import fetch_data, fetch_24h_vol, save_cache_data"
   ]
  },
  {
   "cell_type": "code",
   "execution_count": 2,
   "metadata": {},
   "outputs": [],
   "source": [
    "# Fetch and save funding rate and price history\n",
    "\n",
    "# Input\n",
    "exchanges_markets = [\n",
    "    {\n",
    "        \"binance\": \"BTCUSDT\",\n",
    "        \"bitmex\": \"XBTUSDT\",\n",
    "        \"apollox\": \"BTCUSDT\",\n",
    "        \"drift\": \"BTC-PERP\"\n",
    "    },\n",
    "    {\n",
    "        \"binance\": \"ETHUSDT\",\n",
    "        \"bitmex\": \"ETHUSDT\",\n",
    "        \"apollox\": \"ETHUSDT\",\n",
    "        \"drift\": \"ETH-PERP\"\n",
    "    },\n",
    "    {\n",
    "        \"binance\": \"SOLUSDT\",\n",
    "        \"bitmex\": \"SOLUSDT\",\n",
    "        \"apollox\": \"SOLUSDT\",\n",
    "        \"drift\": \"SOL-PERP\"\n",
    "    },\n",
    "    {\n",
    "        \"binance\": \"XRPUSDT\",\n",
    "        \"bitmex\": \"XRPUSDT\",\n",
    "        \"apollox\": \"XRPUSDT\",\n",
    "        \"drift\": \"XRP-PERP\"\n",
    "    },\n",
    "    {\n",
    "        \"binance\": \"BNBUSDT\",\n",
    "        \"bitmex\": \"BNBUSDT\",\n",
    "        \"apollox\": \"BNBUSDT\",\n",
    "        \"drift\": \"BNB-PERP\"\n",
    "    },\n",
    "]\n",
    "\n",
    "accepted_exchanges = [\n",
    "    # 'binance', \n",
    "    'bitmex', \n",
    "    # 'apollox',\n",
    "    # 'drift'\n",
    "    ]\n",
    "exchanges_markets = [{key: market[key] for key in market if key in accepted_exchanges } for market in exchanges_markets]"
   ]
  },
  {
   "cell_type": "code",
   "execution_count": 3,
   "metadata": {},
   "outputs": [],
   "source": [
    "# Download funding rate and price\n",
    "for exchanges_market in exchanges_markets:\n",
    "    for exchange, market in exchanges_market.items():\n",
    "         data = fetch_data(exchange, market)\n",
    "         save_cache_data(exchange, market, data)"
   ]
  }
 ],
 "metadata": {
  "kernelspec": {
   "display_name": ".venv",
   "language": "python",
   "name": "python3"
  },
  "language_info": {
   "codemirror_mode": {
    "name": "ipython",
    "version": 3
   },
   "file_extension": ".py",
   "mimetype": "text/x-python",
   "name": "python",
   "nbconvert_exporter": "python",
   "pygments_lexer": "ipython3",
   "version": "3.12.7"
  }
 },
 "nbformat": 4,
 "nbformat_minor": 2
}
