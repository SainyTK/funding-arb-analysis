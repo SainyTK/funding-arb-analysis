{
 "cells": [
  {
   "cell_type": "code",
   "execution_count": 8,
   "metadata": {},
   "outputs": [],
   "source": [
    "import os, json"
   ]
  },
  {
   "cell_type": "code",
   "execution_count": 9,
   "metadata": {},
   "outputs": [],
   "source": [
    "def fill_drift_missing_prices(binance_symbol, drift_symbol, year, month):\n",
    "    folder_path = os.path.join(f\"./modules/data/binance/prices/{binance_symbol}\")\n",
    "    file_path = os.path.join(f\"{folder_path}/{binance_symbol}_{year}_{month}.json\")\n",
    "    \n",
    "    with open(file_path, \"r\") as f:\n",
    "        binance_price = json.load(f)\n",
    "    \n",
    "    drift_price = [{\n",
    "        \"start\": str(item[0]),\n",
    "        \"open\": item[1],\n",
    "        \"close\": item[4],\n",
    "        \"high\": item[2],\n",
    "        \"low\": item[3],\n",
    "        \"quoteVolume\": item[7],\n",
    "        \"baseVolume\": item[5],\n",
    "        \"resolution\": \"60\",\n",
    "        \"recordKey\": str(item[0])\n",
    "    } for item in binance_price]\n",
    "    \n",
    "    folder_path = os.path.join(f\"./modules/data/drift/prices/{drift_symbol}\")\n",
    "    file_path = os.path.join(f\"{folder_path}/{drift_symbol}_{year}_{month}.json\")\n",
    "    \n",
    "    if not os.path.exists(folder_path):\n",
    "        os.makedirs(folder_path)\n",
    "    \n",
    "    with open(file_path, \"w\") as f:\n",
    "        json.dump(drift_price, f)\n",
    "        \n",
    "    return drift_price"
   ]
  },
  {
   "cell_type": "code",
   "execution_count": 10,
   "metadata": {},
   "outputs": [],
   "source": [
    "months = [10, 11, 12]\n",
    "binance_symbols = [\"BNBUSDT\", \"BTCUSDT\", \"ETHUSDT\", \"SOLUSDT\", \"XRPUSDT\"]\n",
    "drift_symbols = [\"BNB-PERP\", \"BTC-PERP\", \"ETH-PERP\", \"SOL-PERP\", \"XRP-PERP\"]\n",
    "\n",
    "for (index, symbol) in enumerate(binance_symbols):\n",
    "    for month in months:\n",
    "        fill_drift_missing_prices(symbol, drift_symbols[index], 2023, month)"
   ]
  }
 ],
 "metadata": {
  "kernelspec": {
   "display_name": ".venv",
   "language": "python",
   "name": "python3"
  },
  "language_info": {
   "codemirror_mode": {
    "name": "ipython",
    "version": 3
   },
   "file_extension": ".py",
   "mimetype": "text/x-python",
   "name": "python",
   "nbconvert_exporter": "python",
   "pygments_lexer": "ipython3",
   "version": "3.12.0"
  }
 },
 "nbformat": 4,
 "nbformat_minor": 2
}
